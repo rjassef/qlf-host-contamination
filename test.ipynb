{
 "cells": [
  {
   "cell_type": "code",
   "execution_count": 1,
   "metadata": {},
   "outputs": [],
   "source": [
    "import numpy as np\n",
    "import astropy.units as u \n",
    "from astropy.constants import c, L_sun\n",
    "import matplotlib.pyplot as plt\n",
    "from astropy.cosmology import Planck15 as cosmo\n",
    "from scipy.interpolate import interp1d\n",
    "\n",
    "#from Phi_Obs_hostgal_MiLim import get_phi_lam_obs\n",
    "from phi_obs_general import get_phi_lam_obs\n",
    "from qlfhosts.QLFs import S20_QLF as QLF\n",
    "\n",
    "from qlfhosts.SEDs import R06_AGN, A10_hosts\n",
    "from qlfhosts.AGN_Selection import R02\n",
    "from qlfhosts.GLFs import Uniform, Willmer06, Kollmeier06\n",
    "\n",
    "from qlfhosts.util.phiObs import PhiObs"
   ]
  },
  {
   "cell_type": "code",
   "execution_count": 2,
   "metadata": {},
   "outputs": [],
   "source": [
    "z = 0.5\n",
    "DL = cosmo.luminosity_distance(z)\n",
    "lam_eff_filter = 4750.*u.angstrom\n",
    "m_faint = 28.0\n",
    "m_bright = 15.0\n",
    "m_zp_jy = 3631.0*u.Jy\n"
   ]
  },
  {
   "cell_type": "code",
   "execution_count": 3,
   "metadata": {},
   "outputs": [],
   "source": [
    "dmag = 0.5 * u.mag\n",
    "m_grid = np.arange(m_bright, m_faint+0.1*dmag.value, dmag.value)\n",
    "Ntot1 = np.zeros(m_grid.shape)\n",
    "Ntot2 = np.zeros(m_grid.shape)\n",
    "Ntot3 = np.zeros(m_grid.shape)"
   ]
  },
  {
   "cell_type": "code",
   "execution_count": 4,
   "metadata": {},
   "outputs": [],
   "source": [
    "bp_names = ['sdssu', 'sdssg', 'sdssr']\n",
    "\n",
    "#Set up the intrinsic qlf to use. \n",
    "qlf = QLF()\n",
    "\n",
    "#Set up the AGN selection criteria.\n",
    "sel_crit = R02()\n",
    "\n",
    "agn_sed = R06_AGN(z, bp_names=bp_names, cosmo=cosmo)\n",
    "hosts_sed = A10_hosts(z, bp_names=bp_names, cosmo=cosmo)\n",
    "hosts_sed.likelihood = np.array([0. ,1. ,0.])"
   ]
  },
  {
   "cell_type": "code",
   "execution_count": 5,
   "metadata": {},
   "outputs": [],
   "source": [
    "glf1 = Uniform()\n",
    "glf2 = Willmer06(z=z)\n",
    "glf3 = Kollmeier06()"
   ]
  },
  {
   "cell_type": "code",
   "execution_count": 6,
   "metadata": {},
   "outputs": [],
   "source": [
    "lfact = np.log10(m_zp_jy * 4*np.pi*DL**2 * c/lam_eff_filter / qlf.Lstar_units)\n",
    "lLlam_obs_min = lfact - 0.4*m_faint\n",
    "lLlam_obs_max = lfact - 0.4*m_bright"
   ]
  },
  {
   "cell_type": "code",
   "execution_count": 7,
   "metadata": {},
   "outputs": [],
   "source": [
    "#Estimate the observed QLF.\n",
    "phi1, dlLlam1 = get_phi_lam_obs(z, qlf, lLlam_obs_min, lLlam_obs_max, lam_eff_filter , agn_sed, hosts_sed, sel_crit, glf1)\n",
    "phi2, dlLlam2 = get_phi_lam_obs(z, qlf, lLlam_obs_min, lLlam_obs_max, lam_eff_filter , agn_sed, hosts_sed, sel_crit, glf2)\n",
    "phi3, dlLlam3 = get_phi_lam_obs(z, qlf, lLlam_obs_min, lLlam_obs_max, lam_eff_filter , agn_sed, hosts_sed, sel_crit, glf3)"
   ]
  },
  {
   "cell_type": "code",
   "execution_count": 10,
   "metadata": {},
   "outputs": [],
   "source": [
    "#Now, repeat the estimates but with the new module. \n",
    "phi1_obj = PhiObs(z, Galaxy_Luminosity_Distribution=Uniform)\n",
    "phi1_new, dlLlam1_new = phi1_obj.get_phi_lam_obs(lLlam_obs_min, lLlam_obs_max, lam_eff_filter)\n",
    "\n",
    "phi2_obj = PhiObs(z, Galaxy_Luminosity_Distribution=Willmer06)\n",
    "phi2_new, dlLlam1_new = phi2_obj.get_phi_lam_obs(lLlam_obs_min, lLlam_obs_max, lam_eff_filter)\n",
    "\n",
    "phi3_obj = PhiObs(z, Galaxy_Luminosity_Distribution=Kollmeier06)\n",
    "phi3_new, dlLlam1_new = phi3_obj.get_phi_lam_obs(lLlam_obs_min, lLlam_obs_max, lam_eff_filter)"
   ]
  },
  {
   "cell_type": "code",
   "execution_count": 12,
   "metadata": {},
   "outputs": [
    {
     "name": "stdout",
     "output_type": "stream",
     "text": [
      "[3.17911528e-08 2.58207198e-08 2.09593832e-08 1.70041884e-08\n",
      " 1.37885164e-08 1.11757971e-08 9.05424678e-09 7.33248396e-09\n",
      " 5.93588990e-09] 1 / (dex Mpc3)\n",
      "[3.17911528e-08 2.58207198e-08 2.09593832e-08 1.70041884e-08\n",
      " 1.37885164e-08 1.11757971e-08 9.05424678e-09 7.33248396e-09\n",
      " 5.93588990e-09] 1 / (dex Mpc3)\n"
     ]
    }
   ],
   "source": [
    "print(phi2_new[-10:-1])\n",
    "print(phi2[-10:-1])"
   ]
  },
  {
   "cell_type": "code",
   "execution_count": null,
   "metadata": {},
   "outputs": [],
   "source": []
  }
 ],
 "metadata": {
  "interpreter": {
   "hash": "f03b9a2c7ea9f41745dcc6db94416df51ccadc721a81d25643be868ea906bce0"
  },
  "kernelspec": {
   "display_name": "Python 3.7.11 ('astroconda')",
   "language": "python",
   "name": "python3"
  },
  "language_info": {
   "codemirror_mode": {
    "name": "ipython",
    "version": 3
   },
   "file_extension": ".py",
   "mimetype": "text/x-python",
   "name": "python",
   "nbconvert_exporter": "python",
   "pygments_lexer": "ipython3",
   "version": "3.7.11"
  },
  "orig_nbformat": 4
 },
 "nbformat": 4,
 "nbformat_minor": 2
}
